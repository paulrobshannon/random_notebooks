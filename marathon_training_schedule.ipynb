{
 "cells": [
  {
   "cell_type": "code",
   "execution_count": 1,
   "metadata": {},
   "outputs": [],
   "source": [
    "import numpy as np\n",
    "import pandas as pd\n",
    "import io\n",
    "import seaborn as sns\n",
    "from datetime import datetime, timedelta\n",
    "import matplotlib.pyplot as plt"
   ]
  },
  {
   "cell_type": "code",
   "execution_count": 2,
   "metadata": {},
   "outputs": [],
   "source": [
    "run_data = \"\"\"\n",
    "2023-01-21, 2.98\n",
    "2023-01-23, 3.02\n",
    "2023-01-24, 5.07\n",
    "2023-01-26, 5.52\n",
    "2023-01-26, 5.52\n",
    "2023-01-27, 6.46\n",
    "2023-01-31, 5.11\n",
    "2023-02-03, 5.59\n",
    "2023-02-06, 9.28\n",
    "2023-02-07, 5.07\n",
    "2023-02-08, 3.99\n",
    "\"\"\""
   ]
  },
  {
   "cell_type": "code",
   "execution_count": 3,
   "metadata": {},
   "outputs": [],
   "source": [
    "distance = 42.0\n",
    "target = np.ceil(distance * 0.8)\n",
    "\n",
    "start_date = datetime(2023, 1, 21)\n",
    "end_date = datetime(2023, 4, 30)\n",
    "target_end_date = end_date - timedelta(days=7)\n",
    "\n",
    "def next_day(date, day):\n",
    "    days = (day - date.weekday() + 7) % 7\n",
    "    return date + timedelta(days=days)\n",
    "\n",
    "start_sunday = next_day(start_date, 6)\n",
    "\n",
    "number_of_weeks = int((target_end_date - start_sunday).days / 7)"
   ]
  },
  {
   "cell_type": "code",
   "execution_count": 4,
   "metadata": {},
   "outputs": [],
   "source": [
    "list_data = []\n",
    "\n",
    "for i in range(0, number_of_weeks + 1):\n",
    "    list_data.append(\n",
    "        {\n",
    "            \"date\": (start_sunday + timedelta(days = 7 * i)).strftime(\"%Y-%m-%d\"),\n",
    "            \"distance\": np.ceil(i * target / number_of_weeks),\n",
    "            \"type\": \"target\"\n",
    "        }\n",
    "    )\n",
    "    \n",
    "target_df = pd.DataFrame(list_data)    "
   ]
  },
  {
   "cell_type": "code",
   "execution_count": 5,
   "metadata": {},
   "outputs": [],
   "source": [
    "run_df = pd.read_csv(io.StringIO(run_data), names=[\"date\", \"distance\"])\n",
    "run_df[\"type\"] = \"individual runs\""
   ]
  },
  {
   "cell_type": "code",
   "execution_count": 6,
   "metadata": {},
   "outputs": [],
   "source": [
    "run_and_target_df = (\n",
    "    pd.concat([target_df, run_df])\n",
    "    .sort_values([\"date\"])\n",
    "    .reset_index(drop=True)\n",
    ")"
   ]
  },
  {
   "cell_type": "code",
   "execution_count": 7,
   "metadata": {},
   "outputs": [],
   "source": [
    "run_and_target_df[\"training_day_number\"] = (\n",
    "    pd.to_datetime(run_and_target_df[\"date\"], format=\"%Y-%m-%d\") - start_date).dt.days"
   ]
  },
  {
   "cell_type": "code",
   "execution_count": 8,
   "metadata": {},
   "outputs": [],
   "source": [
    "concat_df = pd.concat(\n",
    "    [\n",
    "        run_and_target_df,\n",
    "        pd.DataFrame({\n",
    "            \"date\": run_and_target_df.query(\"type == 'individual runs'\")[\"date\"],\n",
    "            \"distance\": run_and_target_df.query(\"type == 'individual runs'\")[\"distance\"].cummax(),\n",
    "            \"type\": \"maximum run distance\", \n",
    "            \"training_day_number\": run_and_target_df.query(\"type == 'individual runs'\")[\"training_day_number\"]\n",
    "        })\n",
    "    ], \n",
    "    axis=0\n",
    ")"
   ]
  },
  {
   "cell_type": "code",
   "execution_count": 11,
   "metadata": {},
   "outputs": [
    {
     "name": "stderr",
     "output_type": "stream",
     "text": [
      "<ipython-input-11-875f99e89830>:22: UserWarning: FixedFormatter should only be used together with FixedLocator\n",
      "  ax.set_xticklabels(labels)\n"
     ]
    },
    {
     "data": {
      "text/plain": [
       "[Text(-20.0, 0, '01-01-23'),\n",
       " Text(0.0, 0, '21-01-23'),\n",
       " Text(20.0, 0, '10-02-23'),\n",
       " Text(40.0, 0, '02-03-23'),\n",
       " Text(60.0, 0, '22-03-23'),\n",
       " Text(80.0, 0, '11-04-23'),\n",
       " Text(100.0, 0, '01-05-23')]"
      ]
     },
     "execution_count": 11,
     "metadata": {},
     "output_type": "execute_result"
    },
    {
     "data": {
      "image/png": "[encoded data removed]",
      "text/plain": [
       "<Figure size 864x432 with 1 Axes>"
      ]
     },
     "metadata": {
      "needs_background": "light"
     },
     "output_type": "display_data"
    }
   ],
   "source": [
    "fig, ax = plt.subplots(figsize = (12,6)) \n",
    "\n",
    "p1 = sns.lineplot(x='training_day_number', \n",
    "                  y='distance',\n",
    "                  hue='type', \n",
    "                  data=concat_df)\n",
    "\n",
    "p2 = sns.scatterplot(data=concat_df.query(\"type == 'individual runs'\"), \n",
    "                     x=\"training_day_number\", \n",
    "                     y=\"distance\")\n",
    "\n",
    "# add vline at today\n",
    "p1.axvline(int((datetime.today() - start_date).days), 0)\n",
    "\n",
    "# set axis labels\n",
    "ax.set(xlabel='Date', ylabel='Distance (km)', title=f\"Marathon Training Schedule (last update {datetime.today().strftime('%d-%m-%y')})\")\n",
    "\n",
    "# get the xticks, which are the numeric location of the ticks\n",
    "xticks = ax.get_xticks()\n",
    "labels = [(start_date + timedelta(days=i)).strftime(\"%d-%m-%y\") for i in xticks]\n",
    "\n",
    "ax.set_xticklabels(labels)"
   ]
  }
 ],
 "metadata": {
  "kernelspec": {
   "display_name": "Python 3",
   "language": "python",
   "name": "python3"
  },
  "language_info": {
   "codemirror_mode": {
    "name": "ipython",
    "version": 3
   },
   "file_extension": ".py",
   "mimetype": "text/x-python",
   "name": "python",
   "nbconvert_exporter": "python",
   "pygments_lexer": "ipython3",
   "version": "3.8.5"
  }
 },
 "nbformat": 4,
 "nbformat_minor": 4
}
