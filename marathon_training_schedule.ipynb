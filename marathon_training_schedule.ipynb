{
 "cells": [
  {
   "cell_type": "code",
   "execution_count": 1,
   "metadata": {},
   "outputs": [],
   "source": [
    "import numpy as np\n",
    "import pandas as pd\n",
    "import io\n",
    "import seaborn as sns\n",
    "from datetime import datetime, timedelta\n",
    "import matplotlib.pyplot as plt"
   ]
  },
  {
   "cell_type": "code",
   "execution_count": 2,
   "metadata": {},
   "outputs": [],
   "source": [
    "run_data = \"\"\"\n",
    "2023-01-21, 2.98\n",
    "2023-01-23, 3.02\n",
    "2023-01-24, 5.07\n",
    "2023-01-26, 5.52\n",
    "2023-01-26, 5.52\n",
    "2023-01-27, 6.46\n",
    "\"\"\""
   ]
  },
  {
   "cell_type": "code",
   "execution_count": 3,
   "metadata": {},
   "outputs": [],
   "source": [
    "distance = 42.0\n",
    "target = np.ceil(distance * 0.8)\n",
    "\n",
    "start_date = datetime(2023, 1, 21)\n",
    "end_date = datetime(2023, 4, 30)\n",
    "target_end_date = end_date - timedelta(days=7)\n",
    "\n",
    "def next_day(date, day):\n",
    "    days = (day - date.weekday() + 7) % 7\n",
    "    return date + timedelta(days=days)\n",
    "\n",
    "start_sunday = next_day(start_date, 6)\n",
    "\n",
    "number_of_weeks = int((target_end_date - start_sunday).days / 7)"
   ]
  },
  {
   "cell_type": "code",
   "execution_count": 4,
   "metadata": {},
   "outputs": [],
   "source": [
    "data = []\n",
    "\n",
    "for i in range(0, number_of_weeks + 1):\n",
    "    data.append(\n",
    "        {\n",
    "            \"date\": (start_sunday + timedelta(days = 7 * i)).strftime(\"%Y-%m-%d\"),\n",
    "            \"distance\": np.ceil(i * target / number_of_weeks),\n",
    "            \"type\": \"target\"\n",
    "        }\n",
    "    )\n",
    "    \n",
    "df = pd.DataFrame(data)    "
   ]
  },
  {
   "cell_type": "code",
   "execution_count": 5,
   "metadata": {},
   "outputs": [],
   "source": [
    "run_df = pd.read_csv(io.StringIO(run_data), names=[\"date\", \"distance\"])\n",
    "run_df[\"type\"] = \"individual run\""
   ]
  },
  {
   "cell_type": "code",
   "execution_count": 6,
   "metadata": {},
   "outputs": [],
   "source": [
    "concat_df = pd.concat([df, run_df])\n",
    "\n",
    "concat_df = concat_df.sort_values([\"date\"])\n",
    "\n",
    "concat_df.reset_index(drop=True, inplace=True)"
   ]
  },
  {
   "cell_type": "code",
   "execution_count": 7,
   "metadata": {},
   "outputs": [],
   "source": [
    "training_day_number = []\n",
    "date_col = []\n",
    "for i in range(0, concat_df.shape[0]):\n",
    "    training_day_number.append((datetime.strptime(concat_df.loc[i, \"date\"], \"%Y-%m-%d\") - start_date).days)\n",
    "    date_col.append(datetime.strptime(concat_df.loc[i, \"date\"], \"%Y-%m-%d\"))\n",
    "\n",
    "concat_df[\"training_day_number\"] = training_day_number\n",
    "concat_df[\"datetime_date\"] = date_col"
   ]
  },
  {
   "cell_type": "code",
   "execution_count": 8,
   "metadata": {},
   "outputs": [],
   "source": [
    "concat_df[concat_df[\"type\"] == \"individual run\"].groupby([pd.Grouper(key=\"datetime_date\", freq='W'), \"type\"]).agg({\"distance\": ['sum', 'max']})\n",
    "\n",
    "concat_df[\"weekly_total\"] = concat_df[concat_df[\"type\"] == \"individual run\"].groupby([pd.Grouper(key=\"datetime_date\", freq='W'), \"type\"])[\"distance\"].transform(\"sum\")\n",
    "concat_df[\"weekly_max\"] = concat_df[concat_df[\"type\"] == \"individual run\"].groupby([pd.Grouper(key=\"datetime_date\", freq='W'), \"type\"])[\"distance\"].transform(\"max\")\n",
    "\n",
    "max_sum_melt = concat_df.melt(id_vars=[\"training_day_number\"], value_vars=[\"weekly_total\", \"weekly_max\"])\n",
    "max_sum_melt = max_sum_melt[~max_sum_melt[\"value\"].isna()]\n",
    "max_sum_melt = max_sum_melt.rename(columns={\"value\": \"distance\", \"variable\": \"type\"})"
   ]
  },
  {
   "cell_type": "code",
   "execution_count": 9,
   "metadata": {},
   "outputs": [
    {
     "name": "stderr",
     "output_type": "stream",
     "text": [
      "<ipython-input-9-a8707eedc7ff>:21: UserWarning: FixedFormatter should only be used together with FixedLocator\n",
      "  ax.set_xticklabels(labels)\n"
     ]
    },
    {
     "data": {
      "text/plain": [
       "[Text(-20.0, 0, '01-01-2023'),\n",
       " Text(0.0, 0, '21-01-2023'),\n",
       " Text(20.0, 0, '10-02-2023'),\n",
       " Text(40.0, 0, '02-03-2023'),\n",
       " Text(60.0, 0, '22-03-2023'),\n",
       " Text(80.0, 0, '11-04-2023'),\n",
       " Text(100.0, 0, '01-05-2023')]"
      ]
     },
     "execution_count": 9,
     "metadata": {},
     "output_type": "execute_result"
    },
    {
     "data": {
      "image/png": "[encoded data removed]",
      "text/plain": [
       "<Figure size 864x432 with 1 Axes>"
      ]
     },
     "metadata": {
      "needs_background": "light"
     },
     "output_type": "display_data"
    }
   ],
   "source": [
    "# import textwrap\n",
    "concat_df_02 = pd.concat([concat_df[[\"training_day_number\", \"distance\", \"type\"]], max_sum_melt[[\"training_day_number\", \"distance\", \"type\"]]])\n",
    "\n",
    "concat_df_02 = concat_df_02[concat_df_02[\"type\"] != \"weekly_total\"]\n",
    "\n",
    "fig, ax = plt.subplots(figsize = (12,6)) \n",
    "\n",
    "fig = sns.lineplot(x='training_day_number', \n",
    "                   y='distance',\n",
    "                   hue='type', \n",
    "                   data=concat_df_02)\n",
    "\n",
    "\n",
    "x_dates = concat_df[\"date\"].sort_values().unique()\n",
    "ax.set(xlabel='Date', ylabel='Distance', title=\"Marathon Training Schedule\")\n",
    "\n",
    "# get the xticks, which are the numeric location of the ticks\n",
    "xticks = ax.get_xticks()\n",
    "labels = [(start_date + timedelta(days=i)).strftime(\"%d-%m-%Y\") for i in xticks]\n",
    "\n",
    "ax.set_xticklabels(labels)"
   ]
  }
 ],
 "metadata": {
  "kernelspec": {
   "display_name": "Python 3",
   "language": "python",
   "name": "python3"
  },
  "language_info": {
   "codemirror_mode": {
    "name": "ipython",
    "version": 3
   },
   "file_extension": ".py",
   "mimetype": "text/x-python",
   "name": "python",
   "nbconvert_exporter": "python",
   "pygments_lexer": "ipython3",
   "version": "3.8.5"
  }
 },
 "nbformat": 4,
 "nbformat_minor": 4
}
